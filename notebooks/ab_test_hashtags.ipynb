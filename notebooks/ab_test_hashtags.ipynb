{
 "cells": [
  {
   "cell_type": "markdown",
   "id": "dd0afcb0-d4a5-4c39-8a5e-e31161ac0450",
   "metadata": {},
   "source": [
    "# A/B Test: Impact of Hashtags on Engagement\n",
    "**Hypothesis:** Automatically appending relevant hashtags to a tweet increases its average number of retweets."
   ]
  },
  {
   "cell_type": "code",
   "execution_count": 3,
   "id": "8b02b737-57b8-4e00-90be-5e97751c86c7",
   "metadata": {},
   "outputs": [],
   "source": [
    "import pandas as pd\n",
    "import numpy as np\n",
    "import matplotlib.pyplot as plt\n",
    "import seaborn as sns\n",
    "from scipy.stats import ttest_ind, mannwhitneyu\n",
    "from sqlalchemy import create_engine\n",
    "\n",
    "ENGINE_URL = \"postgresql://localhost/postgres\"\n",
    "engine = create_engine(ENGINE_URL)\n",
    "\n",
    "tweets        = pd.read_sql_table(\"tweets\", engine, index_col=\"tweet_idx\")\n",
    "tweet_metrics = pd.read_sql_table(\"tweet_metrics\", engine, index_col=\"tweet_idx\")\n",
    "author_metrics= pd.read_sql_table(\"author_metrics\", engine, index_col=\"tweet_idx\")\n",
    "\n",
    "df = tweets.join(tweet_metrics).join(author_metrics)"
   ]
  },
  {
   "cell_type": "markdown",
   "id": "ea375a45-c0db-4671-8676-3ab586f9bc55",
   "metadata": {},
   "source": [
    "## 1. Define Groups\n",
    "- **Group A (control):** tweets with `hashtags == 0`  \n",
    "- **Group B (test):**    tweets with `hashtags > 0`"
   ]
  },
  {
   "cell_type": "code",
   "execution_count": 4,
   "id": "60289795-c78c-45e9-92c1-5b337c9de250",
   "metadata": {},
   "outputs": [
    {
     "data": {
      "text/plain": [
       "group\n",
       "A    124766\n",
       "B      9432\n",
       "Name: count, dtype: int64"
      ]
     },
     "metadata": {},
     "output_type": "display_data"
    }
   ],
   "source": [
    "df[\"group\"] = df[\"hashtags\"].apply(lambda x: \"B\" if x > 0 else \"A\")\n",
    "display(df[\"group\"].value_counts())"
   ]
  },
  {
   "cell_type": "code",
   "execution_count": 9,
   "id": "77d7b17f-711b-40ea-be8f-86494c04f61e",
   "metadata": {},
   "outputs": [
    {
     "name": "stdout",
     "output_type": "stream",
     "text": [
      "Balanced group sizes:\n",
      "group\n",
      "B    9432\n",
      "A    9432\n",
      "Name: count, dtype: int64\n"
     ]
    },
    {
     "name": "stderr",
     "output_type": "stream",
     "text": [
      "/var/folders/v7/3hg25n6d6wj39ct_3j6_mp7c0000gn/T/ipykernel_7150/2571999720.py:4: FutureWarning: The default of observed=False is deprecated and will be changed to True in a future version of pandas. Pass observed=False to retain current behavior or observed=True to adopt the future default and silence this warning.\n",
      "  for _, sub in df.groupby(\"foll_bin\"):\n"
     ]
    }
   ],
   "source": [
    "df[\"foll_bin\"] = pd.qcut(df[\"followers_count\"], q=10, duplicates=\"drop\")\n",
    "\n",
    "balanced = []\n",
    "for _, sub in df.groupby(\"foll_bin\"):\n",
    "    b_sub = sub[sub.group == \"B\"]\n",
    "    a_sub = sub[sub.group == \"A\"]\n",
    "    n_b = len(b_sub)\n",
    "    if n_b == 0:\n",
    "        continue\n",
    "    a_sample = a_sub.sample(n=n_b, random_state=42)\n",
    "    balanced.append(pd.concat([b_sub, a_sample]))\n",
    "df_bal = pd.concat(balanced).reset_index(drop=True)\n",
    "\n",
    "print(\"Balanced group sizes:\")\n",
    "print(df_bal[\"group\"].value_counts())"
   ]
  },
  {
   "cell_type": "markdown",
   "id": "4b3cf570-1e6e-433c-a2eb-4639eed820e4",
   "metadata": {},
   "source": [
    "## 2. Check Covariate Balance\n",
    "Verify that groups are similar in key covariates like follower count and bot score."
   ]
  },
  {
   "cell_type": "code",
   "execution_count": 5,
   "id": "7881c4ba-4933-492c-9f9b-17e1bc3ffcbd",
   "metadata": {},
   "outputs": [
    {
     "data": {
      "image/png": "[encoded data removed]",
      "text/plain": [
       "<Figure size 1200x400 with 2 Axes>"
      ]
     },
     "metadata": {},
     "output_type": "display_data"
    }
   ],
   "source": [
    "fig, axes = plt.subplots(1, 2, figsize=(12,4))\n",
    "sns.boxplot(x=\"group\", y=\"followers_count\", data=df, ax=axes[0]).set_title(\"Followers Count\")\n",
    "sns.boxplot(x=\"group\", y=\"bot_score\",        data=df, ax=axes[1]).set_title(\"Bot Score\")\n",
    "plt.tight_layout()\n",
    "plt.show()"
   ]
  },
  {
   "cell_type": "markdown",
   "id": "8ba4a1b0-03b7-45e7-8ce8-d2d96ebb3bfe",
   "metadata": {},
   "source": [
    "## 3. Compute Metrics by Group\n",
    "- **Primary KPI:** average retweets (`retweets`)  \n",
    "- **Secondary KPIs:** average favorites (`favourites`) and engagement rate"
   ]
  },
  {
   "cell_type": "code",
   "execution_count": 10,
   "id": "8ae72303-c530-45e6-bfe8-870d17e258c1",
   "metadata": {},
   "outputs": [
    {
     "data": {
      "text/html": [
       "<div>\n",
       "<style scoped>\n",
       "    .dataframe tbody tr th:only-of-type {\n",
       "        vertical-align: middle;\n",
       "    }\n",
       "\n",
       "    .dataframe tbody tr th {\n",
       "        vertical-align: top;\n",
       "    }\n",
       "\n",
       "    .dataframe thead th {\n",
       "        text-align: right;\n",
       "    }\n",
       "</style>\n",
       "<table border=\"1\" class=\"dataframe\">\n",
       "  <thead>\n",
       "    <tr style=\"text-align: right;\">\n",
       "      <th></th>\n",
       "      <th>mean_rt</th>\n",
       "      <th>std_rt</th>\n",
       "      <th>n_tweets</th>\n",
       "      <th>mean_fav</th>\n",
       "      <th>eng_rate</th>\n",
       "    </tr>\n",
       "    <tr>\n",
       "      <th>group</th>\n",
       "      <th></th>\n",
       "      <th></th>\n",
       "      <th></th>\n",
       "      <th></th>\n",
       "      <th></th>\n",
       "    </tr>\n",
       "  </thead>\n",
       "  <tbody>\n",
       "    <tr>\n",
       "      <th>A</th>\n",
       "      <td>12.899</td>\n",
       "      <td>226.579</td>\n",
       "      <td>9432</td>\n",
       "      <td>48.755</td>\n",
       "      <td>0.003</td>\n",
       "    </tr>\n",
       "    <tr>\n",
       "      <th>B</th>\n",
       "      <td>2.676</td>\n",
       "      <td>31.726</td>\n",
       "      <td>9432</td>\n",
       "      <td>4.786</td>\n",
       "      <td>0.000</td>\n",
       "    </tr>\n",
       "  </tbody>\n",
       "</table>\n",
       "</div>"
      ],
      "text/plain": [
       "       mean_rt   std_rt  n_tweets  mean_fav  eng_rate\n",
       "group                                                \n",
       "A       12.899  226.579      9432    48.755     0.003\n",
       "B        2.676   31.726      9432     4.786     0.000"
      ]
     },
     "metadata": {},
     "output_type": "display_data"
    }
   ],
   "source": [
    "summary_bal = df_bal.groupby(\"group\").agg(\n",
    "    mean_rt   = (\"retweets\",  \"mean\"),\n",
    "    std_rt    = (\"retweets\",  \"std\"),\n",
    "    n_tweets  = (\"retweets\",  \"count\"),\n",
    "    mean_fav  = (\"favourites\",\"mean\"),\n",
    ")\n",
    "tot_rt     = df_bal.groupby(\"group\")[\"retweets\"].sum()\n",
    "tot_fav    = df_bal.groupby(\"group\")[\"favourites\"].sum()\n",
    "tot_follow = df_bal.groupby(\"group\")[\"followers_count\"].sum()\n",
    "summary_bal[\"eng_rate\"] = (tot_rt + tot_fav) / tot_follow\n",
    "display(summary_bal.round(3))"
   ]
  },
  {
   "cell_type": "markdown",
   "id": "0018dc06-3c33-4fb6-aa4f-15b53fee190d",
   "metadata": {},
   "source": [
    "## 4. Statistical Test\n",
    "- Welch’s t-test for `retweets`  \n",
    "- Mann–Whitney U as a nonparametric alternative"
   ]
  },
  {
   "cell_type": "code",
   "execution_count": 11,
   "id": "f5570c0e-0a31-4eca-b8a3-5a9799df809b",
   "metadata": {},
   "outputs": [
    {
     "name": "stdout",
     "output_type": "stream",
     "text": [
      "Balanced Welch t-test: t = -4.339, p = 0.000\n",
      "Balanced Mann–Whitney U: U = 46963291.000, p = 0.000\n"
     ]
    }
   ],
   "source": [
    "a_bal = df_bal[df_bal.group==\"A\"][\"retweets\"]\n",
    "b_bal = df_bal[df_bal.group==\"B\"][\"retweets\"]\n",
    "\n",
    "t_stat_bal, p_t_bal = ttest_ind(b_bal, a_bal, equal_var=False)\n",
    "u_stat_bal, p_u_bal = mannwhitneyu(b_bal, a_bal, alternative=\"two-sided\")\n",
    "\n",
    "print(f\"Balanced Welch t-test: t = {t_stat_bal:.3f}, p = {p_t_bal:.3f}\")\n",
    "print(f\"Balanced Mann–Whitney U: U = {u_stat_bal:.3f}, p = {p_u_bal:.3f}\")"
   ]
  },
  {
   "cell_type": "markdown",
   "id": "fcc6b5b3-1f08-4b04-8b4f-020e41b4c81c",
   "metadata": {},
   "source": [
    "## 5. Visualize the Difference\n",
    "Bar plot of group means with 95% confidence intervals."
   ]
  },
  {
   "cell_type": "code",
   "execution_count": 12,
   "id": "affc1fdb-2110-42b6-8c9c-513113861318",
   "metadata": {},
   "outputs": [
    {
     "data": {
      "image/png": "[encoded data removed]",
      "text/plain": [
       "<Figure size 640x480 with 1 Axes>"
      ]
     },
     "metadata": {},
     "output_type": "display_data"
    }
   ],
   "source": [
    "import scipy.stats as st\n",
    "\n",
    "means = summary_bal[\"mean_rt\"]\n",
    "ses   = summary_bal[\"std_rt\"] / np.sqrt(summary_bal[\"n_tweets\"])\n",
    "cis   = st.t.ppf(0.975, summary_bal[\"n_tweets\"]-1) * ses\n",
    "\n",
    "fig, ax = plt.subplots()\n",
    "ax.bar([\"A\",\"B\"], means, yerr=cis, capsize=5)\n",
    "ax.set_ylabel(\"Average Retweets (Balanced)\")\n",
    "ax.set_title(\"A vs B: Effect of Hashtags (Balanced Sample)\")\n",
    "plt.show()"
   ]
  },
  {
   "cell_type": "markdown",
   "id": "281ab992-86cc-4920-b8b8-70e01cba5753",
   "metadata": {},
   "source": [
    "## Final Conclusions: Hashtag A/B Analysis\n",
    "\n",
    "**Hypothesis:** Appending relevant hashtags to a tweet increases average retweets.\n",
    "\n",
    "**Results on the balanced sample (9432 tweets per group, stratified by followers_count):**\n",
    "\n",
    "| Group | mean_rt | std_rt  | n_tweets | mean_fav | eng_rate |\n",
    "|:-----:|:-------:|:-------:|:--------:|:--------:|:--------:|\n",
    "| A     | 12.899  | 226.579 | 9432     | 48.755   | 0.003    |\n",
    "| B     | 2.676   | 31.726  | 9432     | 4.786    | 0.000    |\n",
    "\n",
    "- **Welch’s t-test:** t = –4.339, p < 0.001  \n",
    "- **Mann–Whitney U:** U = 4 696 3291, p < 0.001  \n",
    "\n",
    "Both p-values ≪ 0.05 → the difference remains statistically significant.  \n",
    "On historical data, tweets **with** hashtags received **fewer** retweets.\n"
   ]
  },
  {
   "cell_type": "code",
   "execution_count": null,
   "id": "303f6d2a-2aa6-4039-baa3-d9c5eb0764aa",
   "metadata": {},
   "outputs": [],
   "source": []
  }
 ],
 "metadata": {
  "kernelspec": {
   "display_name": "Python 3 (ipykernel)",
   "language": "python",
   "name": "python3"
  },
  "language_info": {
   "codemirror_mode": {
    "name": "ipython",
    "version": 3
   },
   "file_extension": ".py",
   "mimetype": "text/x-python",
   "name": "python",
   "nbconvert_exporter": "python",
   "pygments_lexer": "ipython3",
   "version": "3.12.10"
  }
 },
 "nbformat": 4,
 "nbformat_minor": 5
}
