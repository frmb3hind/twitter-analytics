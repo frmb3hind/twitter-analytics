{
 "cells": [
  {
   "cell_type": "code",
   "execution_count": 2,
   "id": "1b6ced6d-006b-42b1-b7f6-ca181bd493a4",
   "metadata": {},
   "outputs": [
    {
     "name": "stdout",
     "output_type": "stream",
     "text": [
      "Всего колонок: 64\n",
      "Список всех колонок:\n",
      "- Unnamed: 0\n",
      "- majority_target\n",
      "- statement\n",
      "- BinaryNumTarget\n",
      "- tweet\n",
      "- followers_count\n",
      "- friends_count\n",
      "- favourites_count\n",
      "- statuses_count\n",
      "- listed_count\n",
      "- following\n",
      "- embeddings\n",
      "- BotScore\n",
      "- BotScoreBinary\n",
      "- cred\n",
      "- normalize_influence\n",
      "- mentions\n",
      "- quotes\n",
      "- replies\n",
      "- retweets\n",
      "- favourites\n",
      "- hashtags\n",
      "- URLs\n",
      "- unique_count\n",
      "- total_count\n",
      "- ORG_percentage\n",
      "- NORP_percentage\n",
      "- GPE_percentage\n",
      "- PERSON_percentage\n",
      "- MONEY_percentage\n",
      "- DATE_percentage\n",
      "- CARDINAL_percentage\n",
      "- PERCENT_percentage\n",
      "- ORDINAL_percentage\n",
      "- FAC_percentage\n",
      "- LAW_percentage\n",
      "- PRODUCT_percentage\n",
      "- EVENT_percentage\n",
      "- TIME_percentage\n",
      "- LOC_percentage\n",
      "- WORK_OF_ART_percentage\n",
      "- QUANTITY_percentage\n",
      "- LANGUAGE_percentage\n",
      "- Word count\n",
      "- Max word length\n",
      "- Min word length\n",
      "- Average word length\n",
      "- present_verbs\n",
      "- past_verbs\n",
      "- adjectives\n",
      "- adverbs\n",
      "- adpositions\n",
      "- pronouns\n",
      "- TOs\n",
      "- determiners\n",
      "- conjunctions\n",
      "- dots\n",
      "- exclamation\n",
      "- questions\n",
      "- ampersand\n",
      "- capitals\n",
      "- digits\n",
      "- long_word_freq\n",
      "- short_word_freq\n"
     ]
    }
   ],
   "source": [
    "import pandas as pd\n",
    "\n",
    "pd.set_option('display.max_columns', None)\n",
    "\n",
    "df = pd.read_csv('../data/truthseeker_twitter/Twitter Analysis.csv', nrows=5)\n",
    "print(\"Всего колонок:\", len(df.columns))\n",
    "print(\"Список всех колонок:\")\n",
    "for col in df.columns:\n",
    "    print(\"-\", col)"
   ]
  },
  {
   "cell_type": "code",
   "execution_count": null,
   "id": "8bc44370-6a75-4441-b251-44b22061fad3",
   "metadata": {},
   "outputs": [],
   "source": []
  }
 ],
 "metadata": {
  "kernelspec": {
   "display_name": "Python 3 (ipykernel)",
   "language": "python",
   "name": "python3"
  },
  "language_info": {
   "codemirror_mode": {
    "name": "ipython",
    "version": 3
   },
   "file_extension": ".py",
   "mimetype": "text/x-python",
   "name": "python",
   "nbconvert_exporter": "python",
   "pygments_lexer": "ipython3",
   "version": "3.13.2"
  }
 },
 "nbformat": 4,
 "nbformat_minor": 5
}
